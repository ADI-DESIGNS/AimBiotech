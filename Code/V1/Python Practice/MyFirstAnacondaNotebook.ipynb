{
 "cells": [
  {
   "cell_type": "code",
   "execution_count": 1,
   "id": "363b79b0",
   "metadata": {},
   "outputs": [
    {
     "name": "stdout",
     "output_type": "stream",
     "text": [
      "Hello Anaconda\n"
     ]
    }
   ],
   "source": [
    "print(\"Hello Anaconda\")\n"
   ]
  },
  {
   "cell_type": "code",
   "execution_count": null,
   "id": "2227eabe",
   "metadata": {},
   "outputs": [],
   "source": [
    "curl \\\n",
    "    -F 'image1=YOUR_IMAGE_URL' \\\n",
    "    -F 'image2=YOUR_IMAGE_URL' \\\n",
    "    -H 'api-key:a6e19fd4-48db-4289-9792-9c526a6a8008' \\\n",
    "    https://api.deepai.org/api/image-similarity "
   ]
  },
  {
   "cell_type": "code",
   "execution_count": 1,
   "id": "5f45afd8",
   "metadata": {},
   "outputs": [
    {
     "ename": "SyntaxError",
     "evalue": "Missing parentheses in call to 'print'. Did you mean print(counter)? (<ipython-input-1-15f11d1ed7d8>, line 5)",
     "output_type": "error",
     "traceback": [
      "\u001b[1;36m  File \u001b[1;32m\"<ipython-input-1-15f11d1ed7d8>\"\u001b[1;36m, line \u001b[1;32m5\u001b[0m\n\u001b[1;33m    print counter\u001b[0m\n\u001b[1;37m          ^\u001b[0m\n\u001b[1;31mSyntaxError\u001b[0m\u001b[1;31m:\u001b[0m Missing parentheses in call to 'print'. Did you mean print(counter)?\n"
     ]
    }
   ],
   "source": [
    "counter = 100 # 赋值整型变量\n",
    "miles = 1000.0 # 浮点型\n",
    "name = \"John\" # 字符串\n",
    " \n",
    "print counter\n",
    "print miles\n",
    "print name"
   ]
  },
  {
   "cell_type": "code",
   "execution_count": 2,
   "id": "6ccf8462",
   "metadata": {},
   "outputs": [
    {
     "name": "stdout",
     "output_type": "stream",
     "text": [
      "hello world\n",
      "h\n"
     ]
    }
   ],
   "source": [
    "str = 'hello world'\n",
    "\n",
    "print(str)\n",
    "print(str[0])"
   ]
  },
  {
   "cell_type": "code",
   "execution_count": 3,
   "id": "ccc3e98a",
   "metadata": {},
   "outputs": [
    {
     "name": "stdout",
     "output_type": "stream",
     "text": [
      "1\n",
      "2\n"
     ]
    }
   ],
   "source": [
    "L = [[1,2,4],[9,1,8]]\n",
    "print(L[0][0])\n",
    "print(len(L))"
   ]
  },
  {
   "cell_type": "code",
   "execution_count": 5,
   "id": "059eeeea",
   "metadata": {},
   "outputs": [
    {
     "name": "stdout",
     "output_type": "stream",
     "text": [
      "[7, 18, 7]\n",
      "[7, 18, 7]\n"
     ]
    }
   ],
   "source": [
    "L = [[1,2,4],[9,1,8],[2,2,3]]\n",
    "n = len(L)\n",
    "horizonsum=[]\n",
    "verticalsum=[]\n",
    "diagonalsum=[]\n",
    "sum2= 0\n",
    "for i in range(n):\n",
    "    sum1 = sum(L[i])  #这是每一行的 \n",
    "    horizonsum.append(sum1)\n",
    "    for k in range(n):   #这个是每一列的\n",
    "        sum2 = sum2 + L[i][k]\n",
    "    verticalsum.append(sum2)\n",
    "    sum2 = 0;\n",
    "    sum1 = 0;\n",
    "print(horizonsum)\n",
    "print(verticalsum)"
   ]
  },
  {
   "cell_type": "code",
   "execution_count": 26,
   "id": "e2530b17",
   "metadata": {},
   "outputs": [
    {
     "name": "stdout",
     "output_type": "stream",
     "text": [
      "True\n"
     ]
    }
   ],
   "source": [
    "L = [[2,7,6],[9,5,1],[4,3,8]]\n",
    "def magic(L):\n",
    "    n=len(L)\n",
    "    horizonsum=[]\n",
    "    verticalsum=[]\n",
    "    diagonal01sum=[]\n",
    "    diagonal02sum=[]\n",
    "    zero_row_sum=sum(L[0])\n",
    "    sum1=0\n",
    "    sum2=0\n",
    "    sum3=0\n",
    "    sum4=0\n",
    "    for i in range(n):\n",
    "\n",
    "        sum1=sum(L[i])\n",
    "        horizonsum.append(sum1)\n",
    "        for k in range(n):\n",
    "            sum2=sum2+L[i][k]\n",
    "        verticalsum.append(sum2)\n",
    "\n",
    "        sum3=sum3 + L[i][i]  \n",
    "        sum4=sum4 + L[i][n-1-i]\n",
    "\n",
    "        sum2=0\n",
    "        sum1=0\n",
    "    if horizonsum==verticalsum and sum3==sum4 and sum3==horizonsum[0]:\n",
    "        return True\n",
    "    else:\n",
    "        return False\n",
    "    #return sum3,sum4,horizonsum,verticalsum    \n",
    "\n",
    "print(magic(L))\n"
   ]
  },
  {
   "cell_type": "code",
   "execution_count": 2,
   "id": "737da6b0",
   "metadata": {},
   "outputs": [
    {
     "name": "stdout",
     "output_type": "stream",
     "text": [
      "{'status': 'Out of free credits - please enter payment info in your dashboard: https://deepai.org/dashboard'}\n",
      "https://api.deepai.org/api/image-similarity\n"
     ]
    }
   ],
   "source": [
    "import requests\n",
    "r = requests.post(\n",
    "    \"https://api.deepai.org/api/image-similarity\",\n",
    "    data={\n",
    "        'image1': 'https://res.cloudinary.com/xzadi/image/upload/v1649223516/ehsqnk35xxntkscjfnv7.jpg',\n",
    "        'image2': 'https://res.cloudinary.com/xzadi/image/upload/v1649223525/qfumtzlsc9ky3hcynzms.jpg',\n",
    "    },\n",
    "    headers={'api-key':'a6e19fd4-48db-4289-9792-9c526a6a8008'}\n",
    ")\n",
    "print(r.json())\n",
    "print(r.url)"
   ]
  },
  {
   "cell_type": "code",
   "execution_count": 3,
   "id": "80349037",
   "metadata": {},
   "outputs": [
    {
     "name": "stdout",
     "output_type": "stream",
     "text": [
      "{'status': 'Out of free credits - please enter payment info in your dashboard: https://deepai.org/dashboard'}\n",
      "https://api.deepai.org/api/image-similarity\n"
     ]
    }
   ],
   "source": [
    "import requests\n",
    "r = requests.post(\n",
    "    \"https://api.deepai.org/api/image-similarity\",\n",
    "    data={\n",
    "        'image1': 'https://res.cloudinary.com/xzadi/image/upload/v1649223516/ehsqnk35xxntkscjfnv7.jpg',\n",
    "        'image2': 'https://res.cloudinary.com/xzadi/image/upload/v1649223525/qfumtzlsc9ky3hcynzms.jpg',\n",
    "    },\n",
    "    headers={'api-key': 'a6e19fd4-48db-4289-9792-9c526a6a8008'}\n",
    ")\n",
    "print(r.json())\n",
    "print(r.url)"
   ]
  },
  {
   "cell_type": "code",
   "execution_count": null,
   "id": "fb157d2e",
   "metadata": {},
   "outputs": [],
   "source": [
    "a6e19fd4-48db-4289-9792-9c526a6a8008"
   ]
  }
 ],
 "metadata": {
  "kernelspec": {
   "display_name": "Python 3",
   "language": "python",
   "name": "python3"
  },
  "language_info": {
   "codemirror_mode": {
    "name": "ipython",
    "version": 3
   },
   "file_extension": ".py",
   "mimetype": "text/x-python",
   "name": "python",
   "nbconvert_exporter": "python",
   "pygments_lexer": "ipython3",
   "version": "3.8.8"
  }
 },
 "nbformat": 4,
 "nbformat_minor": 5
}
