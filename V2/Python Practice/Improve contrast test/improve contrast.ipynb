{
 "cells": [
  {
   "cell_type": "code",
   "execution_count": 7,
   "id": "c9ec8fd7",
   "metadata": {},
   "outputs": [],
   "source": [
    "# 第一次加强contrast\n",
    "# 再来一次加强contrast\n",
    "\n",
    "import cv2\n",
    "import numpy as np\n",
    "import matplotlib.pyplot as plt\n",
    "    \n",
    "img = cv2.imread(r'foo91.jpg', cv2.IMREAD_GRAYSCALE)#GRAYSCALE\n",
    " \n",
    "#线性变换\n",
    "a = 2\n",
    "O = float(a) * img\n",
    "O[O>255] = 255 #大于255要截断为255\n",
    "    \n",
    "#数据类型的转换\n",
    "O = np.round(O)\n",
    "O = O.astype(np.uint8)\n",
    "\n",
    "cv2.imwrite(\"Improved1.jpg\", O)\n",
    "cv2.waitKey(0)\n",
    "cv2.destroyAllWindows()    \n",
    "\n"
   ]
  },
  {
   "cell_type": "code",
   "execution_count": 5,
   "id": "7f6d3465",
   "metadata": {},
   "outputs": [],
   "source": [
    "import cv2\n",
    "import numpy as np\n",
    "import matplotlib.pyplot as plt\n",
    "    \n",
    "img = cv2.imread(r'Improved1.jpg', cv2.IMREAD_GRAYSCALE)#GRAYSCALE\n",
    " \n",
    "#线性变换\n",
    "a = 2\n",
    "O = float(a) * img\n",
    "O[O>255] = 255 #大于255要截断为255\n",
    "    \n",
    "#数据类型的转换\n",
    "O = np.round(O)\n",
    "O = O.astype(np.uint8)\n",
    "\n",
    "cv2.imwrite(\"Improved2.jpg\", O)\n",
    "cv2.waitKey(0)\n",
    "cv2.destroyAllWindows()    \n"
   ]
  },
  {
   "cell_type": "code",
   "execution_count": null,
   "id": "a0c93500",
   "metadata": {},
   "outputs": [],
   "source": []
  }
 ],
 "metadata": {
  "kernelspec": {
   "display_name": "Python 3",
   "language": "python",
   "name": "python3"
  },
  "language_info": {
   "codemirror_mode": {
    "name": "ipython",
    "version": 3
   },
   "file_extension": ".py",
   "mimetype": "text/x-python",
   "name": "python",
   "nbconvert_exporter": "python",
   "pygments_lexer": "ipython3",
   "version": "3.8.8"
  }
 },
 "nbformat": 4,
 "nbformat_minor": 5
}
